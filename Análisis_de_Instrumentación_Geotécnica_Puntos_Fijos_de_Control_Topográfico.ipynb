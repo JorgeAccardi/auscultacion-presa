{
  "nbformat": 4,
  "nbformat_minor": 0,
  "metadata": {
    "colab": {
      "provenance": [],
      "authorship_tag": "ABX9TyM+3M34ssZ0mHMxI+ADstDq",
      "include_colab_link": true
    },
    "kernelspec": {
      "name": "python3",
      "display_name": "Python 3"
    },
    "language_info": {
      "name": "python"
    }
  },
  "cells": [
    {
      "cell_type": "markdown",
      "metadata": {
        "id": "view-in-github",
        "colab_type": "text"
      },
      "source": [
        "<a href=\"https://colab.research.google.com/github/JorgeAccardi/auscultacion-presa/blob/main/An%C3%A1lisis_de_Instrumentaci%C3%B3n_Geot%C3%A9cnica_Puntos_Fijos_de_Control_Topogr%C3%A1fico.ipynb\" target=\"_parent\"><img src=\"https://colab.research.google.com/assets/colab-badge.svg\" alt=\"Open In Colab\"/></a>"
      ]
    },
    {
      "cell_type": "markdown",
      "source": [
        "📊 Análisis de Instrumentación Geotécnica - Puntos Fijos de Control Topográfico\n",
        "🎯 Objetivo del Análisis\n",
        "Realizar el análisis de datos de instrumentación geotécnica para interpretar, predecir y pronosticar comportamientos de los puntos fijos de control topográfico en represas y estructuras civiles.\n",
        "📋 Descripción de los Datos\n",
        "\n",
        "Tipo de instrumentos: Puntos Fijos de Control Topográfico\n",
        "Ubicaciones: Margen Izquierda (MI) y Margen Derecha (MD)\n",
        "Período: Octubre 2021 - Mayo 2025\n",
        "Variables: Desplazamientos 3D, distancias, azimuts y tasas de movimiento\n",
        "\n"
      ],
      "metadata": {
        "id": "1tMSTBDOTXZQ"
      }
    },
    {
      "cell_type": "markdown",
      "source": [
        "🛠️ 1. Configuración del Entorno"
      ],
      "metadata": {
        "id": "cQbLcTHwTkGp"
      }
    },
    {
      "cell_type": "code",
      "source": [
        "#python\n",
        "# Instalación de librerías necesarias\n",
        "!pip install plotly seaborn scikit-learn statsmodels\n",
        "\n",
        "# Importación de librerías\n",
        "import pandas as pd\n",
        "import numpy as np\n",
        "import matplotlib.pyplot as plt\n",
        "import seaborn as sns\n",
        "import plotly.graph_objects as go\n",
        "import plotly.express as px\n",
        "from plotly.subplots import make_subplots\n",
        "import warnings\n",
        "warnings.filterwarnings('ignore')\n",
        "\n",
        "# Configuración de visualización\n",
        "plt.style.use('seaborn-v0_8')\n",
        "sns.set_palette(\"husl\")\n",
        "pd.set_option('display.max_columns', None)\n",
        "pd.set_option('display.width', None)\n",
        "\n",
        "print(\"✅ Librerías importadas correctamente\")"
      ],
      "metadata": {
        "id": "YxIzYHDwTio1"
      },
      "execution_count": null,
      "outputs": []
    },
    {
      "cell_type": "markdown",
      "source": [
        "📁 2. Carga y Preparación de Datos"
      ],
      "metadata": {
        "id": "o1uP95vUT6KZ"
      }
    },
    {
      "cell_type": "code",
      "source": [
        "# Carga de datos desde archivos CSV\n",
        "# Nota: Ajustar las rutas según la ubicación de tus archivos\n",
        "\n",
        "# Datos Margen Izquierda\n",
        "df_mi = pd.read_csv('/content/PuntosFijosMI_20250611.csv')\n",
        "\n",
        "# Datos Margen Derecha\n",
        "df_md = pd.read_csv('/content/PuntosFijosMD_20250611.csv')\n",
        "\n",
        "# Combinación de ambos datasets\n",
        "df_combined = pd.concat([df_mi, df_md], ignore_index=True)\n",
        "\n",
        "print(f\"📊 Datos cargados:\")\n",
        "print(f\"   - Margen Izquierda: {len(df_mi)} registros\")\n",
        "print(f\"   - Margen Derecha: {len(df_md)} registros\")\n",
        "print(f\"   - Total combinado: {len(df_combined)} registros\")"
      ],
      "metadata": {
        "colab": {
          "base_uri": "https://localhost:8080/"
        },
        "id": "um-wqZNwTYTF",
        "outputId": "b22b1e75-2601-4671-cabe-78ef767df540"
      },
      "execution_count": 4,
      "outputs": [
        {
          "output_type": "stream",
          "name": "stdout",
          "text": [
            "📊 Datos cargados:\n",
            "   - Margen Izquierda: 4071 registros\n",
            "   - Margen Derecha: 4011 registros\n",
            "   - Total combinado: 8082 registros\n"
          ]
        }
      ]
    },
    {
      "cell_type": "code",
      "source": [
        "# Análisis de valores faltantes\n",
        "print(\"🔍 Análisis de valores faltantes:\")\n",
        "missing_data = df_combined.isnull().sum()\n",
        "missing_percentage = (missing_data / len(df_combined)) * 100\n",
        "\n",
        "missing_summary = pd.DataFrame({\n",
        "    'Columna': missing_data.index,\n",
        "    'Valores Faltantes': missing_data.values,\n",
        "    'Porcentaje (%)': missing_percentage.values\n",
        "})\n",
        "\n",
        "print(missing_summary[missing_summary['Valores Faltantes'] > 0])"
      ],
      "metadata": {
        "id": "s0kAQ1lNUFeP"
      },
      "execution_count": null,
      "outputs": []
    },
    {
      "cell_type": "code",
      "source": [
        "# Análisis de valores faltantes\n",
        "print(\"🔍 Análisis de valores faltantes:\")\n",
        "missing_data = df_combined.isnull().sum()\n",
        "missing_percentage = (missing_data / len(df_combined)) * 100\n",
        "\n",
        "missing_summary = pd.DataFrame({\n",
        "    'Columna': missing_data.index,\n",
        "    'Valores Faltantes': missing_data.values,\n",
        "    'Porcentaje (%)': missing_percentage.values\n",
        "})\n",
        "\n",
        "print(missing_summary[missing_summary['Valores Faltantes'] > 0])"
      ],
      "metadata": {
        "id": "1uSoE4ACUP-d"
      },
      "execution_count": null,
      "outputs": []
    }
  ]
}