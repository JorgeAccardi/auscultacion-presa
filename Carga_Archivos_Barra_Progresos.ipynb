{
  "nbformat": 4,
  "nbformat_minor": 0,
  "metadata": {
    "colab": {
      "provenance": [],
      "authorship_tag": "ABX9TyNhylJbe8wKdv5idRAfcmcH",
      "include_colab_link": true
    },
    "kernelspec": {
      "name": "python3",
      "display_name": "Python 3"
    },
    "language_info": {
      "name": "python"
    },
    "widgets": {
      "application/vnd.jupyter.widget-state+json": {
        "a191a0ea60a54ca3829c6e13e8c0a62f": {
          "model_module": "@jupyter-widgets/controls",
          "model_name": "FileUploadModel",
          "model_module_version": "1.5.0",
          "state": {
            "_counter": 32,
            "_dom_classes": [],
            "_model_module": "@jupyter-widgets/controls",
            "_model_module_version": "1.5.0",
            "_model_name": "FileUploadModel",
            "_view_count": null,
            "_view_module": "@jupyter-widgets/controls",
            "_view_module_version": "1.5.0",
            "_view_name": "FileUploadView",
            "accept": ".csv,.xlsx",
            "button_style": "",
            "data": [
              null,
              null,
              null,
              null,
              null,
              null,
              null,
              null,
              null,
              null,
              null,
              null,
              null,
              null,
              null,
              null,
              null,
              null,
              null,
              null,
              null,
              null,
              null,
              null,
              null,
              null,
              null,
              null,
              null,
              null,
              null,
              null
            ],
            "description": "Subir archivos",
            "description_tooltip": null,
            "disabled": false,
            "error": "",
            "icon": "upload",
            "layout": "IPY_MODEL_ea50f6186e4d48ed8505505d2f0c7233",
            "metadata": [
              {
                "name": "AS175_20250608.csv",
                "type": "text/csv",
                "size": 3299,
                "lastModified": 1749354047889
              },
              {
                "name": "AS175_20250608.xlsx",
                "type": "application/vnd.openxmlformats-officedocument.spreadsheetml.sheet",
                "size": 7071,
                "lastModified": 1749354039761
              },
              {
                "name": "AS260_20250608.csv",
                "type": "text/csv",
                "size": 5355,
                "lastModified": 1749354058513
              },
              {
                "name": "AS260_20250608.xlsx",
                "type": "application/vnd.openxmlformats-officedocument.spreadsheetml.sheet",
                "size": 8394,
                "lastModified": 1749354053322
              },
              {
                "name": "AS300_20250608.csv",
                "type": "text/csv",
                "size": 3403,
                "lastModified": 1749354064620
              },
              {
                "name": "AS300_20250608.xlsx",
                "type": "application/vnd.openxmlformats-officedocument.spreadsheetml.sheet",
                "size": 7134,
                "lastModified": 1749354063623
              },
              {
                "name": "AS950_20250608.csv",
                "type": "text/csv",
                "size": 89977,
                "lastModified": 1749354069493
              },
              {
                "name": "AS950_20250608.xlsx",
                "type": "application/vnd.openxmlformats-officedocument.spreadsheetml.sheet",
                "size": 62079,
                "lastModified": 1749354068725
              },
              {
                "name": "AS1225_20250608.csv",
                "type": "text/csv",
                "size": 64682,
                "lastModified": 1749354074517
              },
              {
                "name": "AS1225_20250608.xlsx",
                "type": "application/vnd.openxmlformats-officedocument.spreadsheetml.sheet",
                "size": 46968,
                "lastModified": 1749354072918
              },
              {
                "name": "Freatimetros_20250608.csv",
                "type": "text/csv",
                "size": 12527,
                "lastModified": 1749352415283
              },
              {
                "name": "Freatimetros_20250608.xlsx",
                "type": "application/vnd.openxmlformats-officedocument.spreadsheetml.sheet",
                "size": 12857,
                "lastModified": 1749352413323
              },
              {
                "name": "inclinometros_gkn_20250608.csv",
                "type": "text/csv",
                "size": 1068470,
                "lastModified": 1749355676695
              },
              {
                "name": "inclinometros_gkn_20250608.xlsx",
                "type": "application/vnd.openxmlformats-officedocument.spreadsheetml.sheet",
                "size": 789934,
                "lastModified": 1749355569907
              },
              {
                "name": "NK - Ext - RECINTO-Acumulados_20250608.csv",
                "type": "text/csv",
                "size": 36699,
                "lastModified": 1749354782048
              },
              {
                "name": "NK - Ext - RECINTO-Acumulados_20250608.xlsx",
                "type": "application/vnd.openxmlformats-officedocument.spreadsheetml.sheet",
                "size": 28347,
                "lastModified": 1749354777517
              },
              {
                "name": "PCG_20250608.csv",
                "type": "text/csv",
                "size": 194708,
                "lastModified": 1749353764892
              },
              {
                "name": "PCG_20250608.xlsx",
                "type": "application/vnd.openxmlformats-officedocument.spreadsheetml.sheet",
                "size": 112876,
                "lastModified": 1749353758978
              },
              {
                "name": "PE175_20250608.csv",
                "type": "text/csv",
                "size": 9016,
                "lastModified": 1749352943218
              },
              {
                "name": "PE175_20250608.xlsx",
                "type": "application/vnd.openxmlformats-officedocument.spreadsheetml.sheet",
                "size": 11076,
                "lastModified": 1749353135667
              },
              {
                "name": "PE260_20250608.csv",
                "type": "text/csv",
                "size": 12659,
                "lastModified": 1749353160114
              },
              {
                "name": "PE260_20250608.xlsx",
                "type": "application/vnd.openxmlformats-officedocument.spreadsheetml.sheet",
                "size": 12905,
                "lastModified": 1749353152869
              },
              {
                "name": "PE300_20250608.csv",
                "type": "text/csv",
                "size": 4423,
                "lastModified": 1749353178711
              },
              {
                "name": "PE300_20250608.xlsx",
                "type": "application/vnd.openxmlformats-officedocument.spreadsheetml.sheet",
                "size": 8099,
                "lastModified": 1749353170027
              },
              {
                "name": "PE475_20250608.csv",
                "type": "text/csv",
                "size": 7930,
                "lastModified": 1749353198178
              },
              {
                "name": "PE475_20250608.xlsx",
                "type": "application/vnd.openxmlformats-officedocument.spreadsheetml.sheet",
                "size": 9943,
                "lastModified": 1749353190626
              },
              {
                "name": "PE950_20250608.csv",
                "type": "text/csv",
                "size": 171018,
                "lastModified": 1749353213346
              },
              {
                "name": "PE950_20250608.xlsx",
                "type": "application/vnd.openxmlformats-officedocument.spreadsheetml.sheet",
                "size": 109369,
                "lastModified": 1749353206703
              },
              {
                "name": "PuntosFijosMD_20250611.csv",
                "type": "text/csv",
                "size": 605223,
                "lastModified": 1749666176401
              },
              {
                "name": "PuntosFijosMD_20250611.xlsx",
                "type": "application/vnd.openxmlformats-officedocument.spreadsheetml.sheet",
                "size": 350321,
                "lastModified": 1749666168544
              },
              {
                "name": "PuntosFijosMI_20250611.csv",
                "type": "text/csv",
                "size": 527156,
                "lastModified": 1749666265682
              },
              {
                "name": "PuntosFijosMI_20250611.xlsx",
                "type": "application/vnd.openxmlformats-officedocument.spreadsheetml.sheet",
                "size": 310519,
                "lastModified": 1749666264099
              }
            ],
            "multiple": true,
            "style": "IPY_MODEL_5fd2eb9d1aff41e5a69e3c9dc05e05a1"
          }
        },
        "ea50f6186e4d48ed8505505d2f0c7233": {
          "model_module": "@jupyter-widgets/base",
          "model_name": "LayoutModel",
          "model_module_version": "1.2.0",
          "state": {
            "_model_module": "@jupyter-widgets/base",
            "_model_module_version": "1.2.0",
            "_model_name": "LayoutModel",
            "_view_count": null,
            "_view_module": "@jupyter-widgets/base",
            "_view_module_version": "1.2.0",
            "_view_name": "LayoutView",
            "align_content": null,
            "align_items": null,
            "align_self": null,
            "border": null,
            "bottom": null,
            "display": null,
            "flex": null,
            "flex_flow": null,
            "grid_area": null,
            "grid_auto_columns": null,
            "grid_auto_flow": null,
            "grid_auto_rows": null,
            "grid_column": null,
            "grid_gap": null,
            "grid_row": null,
            "grid_template_areas": null,
            "grid_template_columns": null,
            "grid_template_rows": null,
            "height": null,
            "justify_content": null,
            "justify_items": null,
            "left": null,
            "margin": null,
            "max_height": null,
            "max_width": null,
            "min_height": null,
            "min_width": null,
            "object_fit": null,
            "object_position": null,
            "order": null,
            "overflow": null,
            "overflow_x": null,
            "overflow_y": null,
            "padding": null,
            "right": null,
            "top": null,
            "visibility": null,
            "width": null
          }
        },
        "5fd2eb9d1aff41e5a69e3c9dc05e05a1": {
          "model_module": "@jupyter-widgets/controls",
          "model_name": "ButtonStyleModel",
          "model_module_version": "1.5.0",
          "state": {
            "_model_module": "@jupyter-widgets/controls",
            "_model_module_version": "1.5.0",
            "_model_name": "ButtonStyleModel",
            "_view_count": null,
            "_view_module": "@jupyter-widgets/base",
            "_view_module_version": "1.2.0",
            "_view_name": "StyleView",
            "button_color": "lightblue",
            "font_weight": ""
          }
        },
        "7c7548ed380f4ecfa1de8e5929c80072": {
          "model_module": "@jupyter-widgets/output",
          "model_name": "OutputModel",
          "model_module_version": "1.0.0",
          "state": {
            "_dom_classes": [],
            "_model_module": "@jupyter-widgets/output",
            "_model_module_version": "1.0.0",
            "_model_name": "OutputModel",
            "_view_count": null,
            "_view_module": "@jupyter-widgets/output",
            "_view_module_version": "1.0.0",
            "_view_name": "OutputView",
            "layout": "IPY_MODEL_b84e7f3c9ddd473697c44aeaa4a50ed1",
            "msg_id": "",
            "outputs": [
              {
                "output_type": "display_data",
                "data": {
                  "text/plain": "IntProgress(value=0, bar_style='info', description='Progreso:', max=32)",
                  "application/vnd.jupyter.widget-view+json": {
                    "version_major": 2,
                    "version_minor": 0,
                    "model_id": "1844205e82124dba9f3b6ea99bac46cb"
                  }
                },
                "metadata": {}
              },
              {
                "output_type": "stream",
                "name": "stdout",
                "text": [
                  "⏳ Cargando: AS175_20250608.csv (1/32)\n",
                  "✅ AS175_20250608.csv → asentamiento (CSV)\n",
                  "⏳ Cargando: AS175_20250608.xlsx (2/32)\n",
                  "✅ AS175_20250608.xlsx → asentamiento (XLSX)\n",
                  "⏳ Cargando: AS260_20250608.csv (3/32)\n",
                  "✅ AS260_20250608.csv → asentamiento (CSV)\n",
                  "⏳ Cargando: AS260_20250608.xlsx (4/32)\n",
                  "✅ AS260_20250608.xlsx → asentamiento (XLSX)\n",
                  "⏳ Cargando: AS300_20250608.csv (5/32)\n",
                  "✅ AS300_20250608.csv → asentamiento (CSV)\n",
                  "⏳ Cargando: AS300_20250608.xlsx (6/32)\n",
                  "✅ AS300_20250608.xlsx → asentamiento (XLSX)\n",
                  "⏳ Cargando: AS950_20250608.csv (7/32)\n",
                  "✅ AS950_20250608.csv → asentamiento (CSV)\n",
                  "⏳ Cargando: AS950_20250608.xlsx (8/32)\n"
                ]
              },
              {
                "output_type": "stream",
                "name": "stdout",
                "text": [
                  "✅ AS950_20250608.xlsx → asentamiento (XLSX)\n",
                  "⏳ Cargando: AS1225_20250608.csv (9/32)\n",
                  "✅ AS1225_20250608.csv → asentamiento (CSV)\n",
                  "⏳ Cargando: AS1225_20250608.xlsx (10/32)\n",
                  "✅ AS1225_20250608.xlsx → asentamiento (XLSX)\n",
                  "⏳ Cargando: Freatimetros_20250608.csv (11/32)\n",
                  "✅ Freatimetros_20250608.csv → freatimetros (CSV)\n",
                  "⏳ Cargando: Freatimetros_20250608.xlsx (12/32)\n",
                  "✅ Freatimetros_20250608.xlsx → freatimetros (XLSX)\n",
                  "⏳ Cargando: inclinometros_gkn_20250608.csv (13/32)\n",
                  "✅ inclinometros_gkn_20250608.csv → inclinometros (CSV)\n",
                  "⏳ Cargando: inclinometros_gkn_20250608.xlsx (14/32)\n"
                ]
              },
              {
                "output_type": "stream",
                "name": "stdout",
                "text": [
                  "✅ inclinometros_gkn_20250608.xlsx → inclinometros (XLSX)\n",
                  "⏳ Cargando: NK - Ext - RECINTO-Acumulados_20250608.csv (15/32)\n",
                  "✅ NK - Ext - RECINTO-Acumulados_20250608.csv → extensometro (CSV)\n",
                  "⏳ Cargando: NK - Ext - RECINTO-Acumulados_20250608.xlsx (16/32)\n",
                  "✅ NK - Ext - RECINTO-Acumulados_20250608.xlsx → extensometro (XLSX)\n",
                  "⏳ Cargando: PCG_20250608.csv (17/32)\n",
                  "✅ PCG_20250608.csv → piezometros_casagrande (CSV)\n",
                  "⏳ Cargando: PCG_20250608.xlsx (18/32)\n"
                ]
              },
              {
                "output_type": "stream",
                "name": "stdout",
                "text": [
                  "✅ PCG_20250608.xlsx → piezometros_casagrande (XLSX)\n",
                  "⏳ Cargando: PE175_20250608.csv (19/32)\n",
                  "✅ PE175_20250608.csv → piezometros_electricos (CSV)\n",
                  "⏳ Cargando: PE175_20250608.xlsx (20/32)\n",
                  "✅ PE175_20250608.xlsx → piezometros_electricos (XLSX)\n",
                  "⏳ Cargando: PE260_20250608.csv (21/32)\n",
                  "✅ PE260_20250608.csv → piezometros_electricos (CSV)\n",
                  "⏳ Cargando: PE260_20250608.xlsx (22/32)\n",
                  "✅ PE260_20250608.xlsx → piezometros_electricos (XLSX)\n",
                  "⏳ Cargando: PE300_20250608.csv (23/32)\n",
                  "✅ PE300_20250608.csv → piezometros_electricos (CSV)\n",
                  "⏳ Cargando: PE300_20250608.xlsx (24/32)\n",
                  "✅ PE300_20250608.xlsx → piezometros_electricos (XLSX)\n",
                  "⏳ Cargando: PE475_20250608.csv (25/32)\n",
                  "✅ PE475_20250608.csv → piezometros_electricos (CSV)\n",
                  "⏳ Cargando: PE475_20250608.xlsx (26/32)\n",
                  "✅ PE475_20250608.xlsx → piezometros_electricos (XLSX)\n",
                  "⏳ Cargando: PE950_20250608.csv (27/32)\n",
                  "✅ PE950_20250608.csv → piezometros_electricos (CSV)\n",
                  "⏳ Cargando: PE950_20250608.xlsx (28/32)\n"
                ]
              },
              {
                "output_type": "stream",
                "name": "stdout",
                "text": [
                  "✅ PE950_20250608.xlsx → piezometros_electricos (XLSX)\n",
                  "⏳ Cargando: PuntosFijosMD_20250611.csv (29/32)\n",
                  "✅ PuntosFijosMD_20250611.csv → puntos_fijos_md (CSV)\n",
                  "⏳ Cargando: PuntosFijosMD_20250611.xlsx (30/32)\n"
                ]
              },
              {
                "output_type": "stream",
                "name": "stdout",
                "text": [
                  "✅ PuntosFijosMD_20250611.xlsx → puntos_fijos_md (XLSX)\n",
                  "⏳ Cargando: PuntosFijosMI_20250611.csv (31/32)\n",
                  "✅ PuntosFijosMI_20250611.csv → puntos_fijos_mi (CSV)\n",
                  "⏳ Cargando: PuntosFijosMI_20250611.xlsx (32/32)\n"
                ]
              },
              {
                "output_type": "stream",
                "name": "stdout",
                "text": [
                  "✅ PuntosFijosMI_20250611.xlsx → puntos_fijos_mi (XLSX)\n",
                  "✅ Carga finalizada.\n"
                ]
              },
              {
                "output_type": "display_data",
                "data": {
                  "text/plain": "Dropdown(description='Seleccionar DataFrame:', layout=Layout(width='60%'), options=('puntos_fijos_mi (csv)', '…",
                  "application/vnd.jupyter.widget-view+json": {
                    "version_major": 2,
                    "version_minor": 0,
                    "model_id": "2663c0805fba44ed90a3aee35466876d"
                  }
                },
                "metadata": {}
              }
            ]
          }
        },
        "b84e7f3c9ddd473697c44aeaa4a50ed1": {
          "model_module": "@jupyter-widgets/base",
          "model_name": "LayoutModel",
          "model_module_version": "1.2.0",
          "state": {
            "_model_module": "@jupyter-widgets/base",
            "_model_module_version": "1.2.0",
            "_model_name": "LayoutModel",
            "_view_count": null,
            "_view_module": "@jupyter-widgets/base",
            "_view_module_version": "1.2.0",
            "_view_name": "LayoutView",
            "align_content": null,
            "align_items": null,
            "align_self": null,
            "border": null,
            "bottom": null,
            "display": null,
            "flex": null,
            "flex_flow": null,
            "grid_area": null,
            "grid_auto_columns": null,
            "grid_auto_flow": null,
            "grid_auto_rows": null,
            "grid_column": null,
            "grid_gap": null,
            "grid_row": null,
            "grid_template_areas": null,
            "grid_template_columns": null,
            "grid_template_rows": null,
            "height": null,
            "justify_content": null,
            "justify_items": null,
            "left": null,
            "margin": null,
            "max_height": null,
            "max_width": null,
            "min_height": null,
            "min_width": null,
            "object_fit": null,
            "object_position": null,
            "order": null,
            "overflow": null,
            "overflow_x": null,
            "overflow_y": null,
            "padding": null,
            "right": null,
            "top": null,
            "visibility": null,
            "width": null
          }
        },
        "1844205e82124dba9f3b6ea99bac46cb": {
          "model_module": "@jupyter-widgets/controls",
          "model_name": "IntProgressModel",
          "model_module_version": "1.5.0",
          "state": {
            "_dom_classes": [],
            "_model_module": "@jupyter-widgets/controls",
            "_model_module_version": "1.5.0",
            "_model_name": "IntProgressModel",
            "_view_count": null,
            "_view_module": "@jupyter-widgets/controls",
            "_view_module_version": "1.5.0",
            "_view_name": "ProgressView",
            "bar_style": "success",
            "description": "Progreso:",
            "description_tooltip": null,
            "layout": "IPY_MODEL_3516e602f1b74b20858710cb14e54ddc",
            "max": 32,
            "min": 0,
            "orientation": "horizontal",
            "style": "IPY_MODEL_4342a761253e455aab7f677d8ec7484b",
            "value": 32
          }
        },
        "3516e602f1b74b20858710cb14e54ddc": {
          "model_module": "@jupyter-widgets/base",
          "model_name": "LayoutModel",
          "model_module_version": "1.2.0",
          "state": {
            "_model_module": "@jupyter-widgets/base",
            "_model_module_version": "1.2.0",
            "_model_name": "LayoutModel",
            "_view_count": null,
            "_view_module": "@jupyter-widgets/base",
            "_view_module_version": "1.2.0",
            "_view_name": "LayoutView",
            "align_content": null,
            "align_items": null,
            "align_self": null,
            "border": null,
            "bottom": null,
            "display": null,
            "flex": null,
            "flex_flow": null,
            "grid_area": null,
            "grid_auto_columns": null,
            "grid_auto_flow": null,
            "grid_auto_rows": null,
            "grid_column": null,
            "grid_gap": null,
            "grid_row": null,
            "grid_template_areas": null,
            "grid_template_columns": null,
            "grid_template_rows": null,
            "height": null,
            "justify_content": null,
            "justify_items": null,
            "left": null,
            "margin": null,
            "max_height": null,
            "max_width": null,
            "min_height": null,
            "min_width": null,
            "object_fit": null,
            "object_position": null,
            "order": null,
            "overflow": null,
            "overflow_x": null,
            "overflow_y": null,
            "padding": null,
            "right": null,
            "top": null,
            "visibility": null,
            "width": null
          }
        },
        "4342a761253e455aab7f677d8ec7484b": {
          "model_module": "@jupyter-widgets/controls",
          "model_name": "ProgressStyleModel",
          "model_module_version": "1.5.0",
          "state": {
            "_model_module": "@jupyter-widgets/controls",
            "_model_module_version": "1.5.0",
            "_model_name": "ProgressStyleModel",
            "_view_count": null,
            "_view_module": "@jupyter-widgets/base",
            "_view_module_version": "1.2.0",
            "_view_name": "StyleView",
            "bar_color": null,
            "description_width": ""
          }
        },
        "2663c0805fba44ed90a3aee35466876d": {
          "model_module": "@jupyter-widgets/controls",
          "model_name": "DropdownModel",
          "model_module_version": "1.5.0",
          "state": {
            "_dom_classes": [],
            "_model_module": "@jupyter-widgets/controls",
            "_model_module_version": "1.5.0",
            "_model_name": "DropdownModel",
            "_options_labels": [
              "puntos_fijos_mi (csv)",
              "puntos_fijos_md (csv)",
              "inclinometros (csv)",
              "asentamiento (csv)",
              "piezometros_electricos (csv)",
              "piezometros_casagrande (csv)",
              "freatimetros (csv)",
              "extensometro (csv)",
              "puntos_fijos_mi (xlsx)",
              "puntos_fijos_md (xlsx)",
              "inclinometros (xlsx)",
              "asentamiento (xlsx)",
              "piezometros_electricos (xlsx)",
              "piezometros_casagrande (xlsx)",
              "freatimetros (xlsx)",
              "extensometro (xlsx)"
            ],
            "_view_count": null,
            "_view_module": "@jupyter-widgets/controls",
            "_view_module_version": "1.5.0",
            "_view_name": "DropdownView",
            "description": "Seleccionar DataFrame:",
            "description_tooltip": null,
            "disabled": false,
            "index": 0,
            "layout": "IPY_MODEL_e845112a9ccd4620a48170f2c8b69d14",
            "style": "IPY_MODEL_b511a8ff1a8942638a61568af21f1757"
          }
        },
        "e845112a9ccd4620a48170f2c8b69d14": {
          "model_module": "@jupyter-widgets/base",
          "model_name": "LayoutModel",
          "model_module_version": "1.2.0",
          "state": {
            "_model_module": "@jupyter-widgets/base",
            "_model_module_version": "1.2.0",
            "_model_name": "LayoutModel",
            "_view_count": null,
            "_view_module": "@jupyter-widgets/base",
            "_view_module_version": "1.2.0",
            "_view_name": "LayoutView",
            "align_content": null,
            "align_items": null,
            "align_self": null,
            "border": null,
            "bottom": null,
            "display": null,
            "flex": null,
            "flex_flow": null,
            "grid_area": null,
            "grid_auto_columns": null,
            "grid_auto_flow": null,
            "grid_auto_rows": null,
            "grid_column": null,
            "grid_gap": null,
            "grid_row": null,
            "grid_template_areas": null,
            "grid_template_columns": null,
            "grid_template_rows": null,
            "height": null,
            "justify_content": null,
            "justify_items": null,
            "left": null,
            "margin": null,
            "max_height": null,
            "max_width": null,
            "min_height": null,
            "min_width": null,
            "object_fit": null,
            "object_position": null,
            "order": null,
            "overflow": null,
            "overflow_x": null,
            "overflow_y": null,
            "padding": null,
            "right": null,
            "top": null,
            "visibility": null,
            "width": "60%"
          }
        },
        "b511a8ff1a8942638a61568af21f1757": {
          "model_module": "@jupyter-widgets/controls",
          "model_name": "DescriptionStyleModel",
          "model_module_version": "1.5.0",
          "state": {
            "_model_module": "@jupyter-widgets/controls",
            "_model_module_version": "1.5.0",
            "_model_name": "DescriptionStyleModel",
            "_view_count": null,
            "_view_module": "@jupyter-widgets/base",
            "_view_module_version": "1.2.0",
            "_view_name": "StyleView",
            "description_width": "initial"
          }
        },
        "565e288a54a94cae8e2800fabdc8394b": {
          "model_module": "@jupyter-widgets/controls",
          "model_name": "FileUploadModel",
          "model_module_version": "1.5.0",
          "state": {
            "_counter": 32,
            "_dom_classes": [],
            "_model_module": "@jupyter-widgets/controls",
            "_model_module_version": "1.5.0",
            "_model_name": "FileUploadModel",
            "_view_count": null,
            "_view_module": "@jupyter-widgets/controls",
            "_view_module_version": "1.5.0",
            "_view_name": "FileUploadView",
            "accept": ".csv,.xlsx",
            "button_style": "",
            "data": [
              null,
              null,
              null,
              null,
              null,
              null,
              null,
              null,
              null,
              null,
              null,
              null,
              null,
              null,
              null,
              null,
              null,
              null,
              null,
              null,
              null,
              null,
              null,
              null,
              null,
              null,
              null,
              null,
              null,
              null,
              null,
              null
            ],
            "description": "Subir archivos",
            "description_tooltip": null,
            "disabled": false,
            "error": "",
            "icon": "upload",
            "layout": "IPY_MODEL_8bbdcf645d744640af27daa779224fa8",
            "metadata": [
              {
                "name": "AS175_20250608.csv",
                "type": "text/csv",
                "size": 3299,
                "lastModified": 1749354047889
              },
              {
                "name": "AS175_20250608.xlsx",
                "type": "application/vnd.openxmlformats-officedocument.spreadsheetml.sheet",
                "size": 7071,
                "lastModified": 1749354039761
              },
              {
                "name": "AS260_20250608.csv",
                "type": "text/csv",
                "size": 5355,
                "lastModified": 1749354058513
              },
              {
                "name": "AS260_20250608.xlsx",
                "type": "application/vnd.openxmlformats-officedocument.spreadsheetml.sheet",
                "size": 8394,
                "lastModified": 1749354053322
              },
              {
                "name": "AS300_20250608.csv",
                "type": "text/csv",
                "size": 3403,
                "lastModified": 1749354064620
              },
              {
                "name": "AS300_20250608.xlsx",
                "type": "application/vnd.openxmlformats-officedocument.spreadsheetml.sheet",
                "size": 7134,
                "lastModified": 1749354063623
              },
              {
                "name": "AS950_20250608.csv",
                "type": "text/csv",
                "size": 89977,
                "lastModified": 1749354069493
              },
              {
                "name": "AS950_20250608.xlsx",
                "type": "application/vnd.openxmlformats-officedocument.spreadsheetml.sheet",
                "size": 62079,
                "lastModified": 1749354068725
              },
              {
                "name": "AS1225_20250608.csv",
                "type": "text/csv",
                "size": 64682,
                "lastModified": 1749354074517
              },
              {
                "name": "AS1225_20250608.xlsx",
                "type": "application/vnd.openxmlformats-officedocument.spreadsheetml.sheet",
                "size": 46968,
                "lastModified": 1749354072918
              },
              {
                "name": "Freatimetros_20250608.csv",
                "type": "text/csv",
                "size": 12527,
                "lastModified": 1749352415283
              },
              {
                "name": "Freatimetros_20250608.xlsx",
                "type": "application/vnd.openxmlformats-officedocument.spreadsheetml.sheet",
                "size": 12857,
                "lastModified": 1749352413323
              },
              {
                "name": "inclinometros_gkn_20250608.csv",
                "type": "text/csv",
                "size": 1068470,
                "lastModified": 1749355676695
              },
              {
                "name": "inclinometros_gkn_20250608.xlsx",
                "type": "application/vnd.openxmlformats-officedocument.spreadsheetml.sheet",
                "size": 789934,
                "lastModified": 1749355569907
              },
              {
                "name": "NK - Ext - RECINTO-Acumulados_20250608.csv",
                "type": "text/csv",
                "size": 36699,
                "lastModified": 1749354782048
              },
              {
                "name": "NK - Ext - RECINTO-Acumulados_20250608.xlsx",
                "type": "application/vnd.openxmlformats-officedocument.spreadsheetml.sheet",
                "size": 28347,
                "lastModified": 1749354777517
              },
              {
                "name": "PCG_20250608.csv",
                "type": "text/csv",
                "size": 194708,
                "lastModified": 1749353764892
              },
              {
                "name": "PCG_20250608.xlsx",
                "type": "application/vnd.openxmlformats-officedocument.spreadsheetml.sheet",
                "size": 112876,
                "lastModified": 1749353758978
              },
              {
                "name": "PE175_20250608.csv",
                "type": "text/csv",
                "size": 9016,
                "lastModified": 1749352943218
              },
              {
                "name": "PE175_20250608.xlsx",
                "type": "application/vnd.openxmlformats-officedocument.spreadsheetml.sheet",
                "size": 11076,
                "lastModified": 1749353135667
              },
              {
                "name": "PE260_20250608.csv",
                "type": "text/csv",
                "size": 12659,
                "lastModified": 1749353160114
              },
              {
                "name": "PE260_20250608.xlsx",
                "type": "application/vnd.openxmlformats-officedocument.spreadsheetml.sheet",
                "size": 12905,
                "lastModified": 1749353152869
              },
              {
                "name": "PE300_20250608.csv",
                "type": "text/csv",
                "size": 4423,
                "lastModified": 1749353178711
              },
              {
                "name": "PE300_20250608.xlsx",
                "type": "application/vnd.openxmlformats-officedocument.spreadsheetml.sheet",
                "size": 8099,
                "lastModified": 1749353170027
              },
              {
                "name": "PE475_20250608.csv",
                "type": "text/csv",
                "size": 7930,
                "lastModified": 1749353198178
              },
              {
                "name": "PE475_20250608.xlsx",
                "type": "application/vnd.openxmlformats-officedocument.spreadsheetml.sheet",
                "size": 9943,
                "lastModified": 1749353190626
              },
              {
                "name": "PE950_20250608.csv",
                "type": "text/csv",
                "size": 171018,
                "lastModified": 1749353213346
              },
              {
                "name": "PE950_20250608.xlsx",
                "type": "application/vnd.openxmlformats-officedocument.spreadsheetml.sheet",
                "size": 109369,
                "lastModified": 1749353206703
              },
              {
                "name": "PuntosFijosMD_20250611.csv",
                "type": "text/csv",
                "size": 605223,
                "lastModified": 1749666176401
              },
              {
                "name": "PuntosFijosMD_20250611.xlsx",
                "type": "application/vnd.openxmlformats-officedocument.spreadsheetml.sheet",
                "size": 350321,
                "lastModified": 1749666168544
              },
              {
                "name": "PuntosFijosMI_20250611.csv",
                "type": "text/csv",
                "size": 527156,
                "lastModified": 1749666265682
              },
              {
                "name": "PuntosFijosMI_20250611.xlsx",
                "type": "application/vnd.openxmlformats-officedocument.spreadsheetml.sheet",
                "size": 310519,
                "lastModified": 1749666264099
              }
            ],
            "multiple": true,
            "style": "IPY_MODEL_1eee16af0a524c2bb4fc1a1804587ffd"
          }
        },
        "8bbdcf645d744640af27daa779224fa8": {
          "model_module": "@jupyter-widgets/base",
          "model_name": "LayoutModel",
          "model_module_version": "1.2.0",
          "state": {
            "_model_module": "@jupyter-widgets/base",
            "_model_module_version": "1.2.0",
            "_model_name": "LayoutModel",
            "_view_count": null,
            "_view_module": "@jupyter-widgets/base",
            "_view_module_version": "1.2.0",
            "_view_name": "LayoutView",
            "align_content": null,
            "align_items": null,
            "align_self": null,
            "border": null,
            "bottom": null,
            "display": null,
            "flex": null,
            "flex_flow": null,
            "grid_area": null,
            "grid_auto_columns": null,
            "grid_auto_flow": null,
            "grid_auto_rows": null,
            "grid_column": null,
            "grid_gap": null,
            "grid_row": null,
            "grid_template_areas": null,
            "grid_template_columns": null,
            "grid_template_rows": null,
            "height": null,
            "justify_content": null,
            "justify_items": null,
            "left": null,
            "margin": null,
            "max_height": null,
            "max_width": null,
            "min_height": null,
            "min_width": null,
            "object_fit": null,
            "object_position": null,
            "order": null,
            "overflow": null,
            "overflow_x": null,
            "overflow_y": null,
            "padding": null,
            "right": null,
            "top": null,
            "visibility": null,
            "width": null
          }
        },
        "1eee16af0a524c2bb4fc1a1804587ffd": {
          "model_module": "@jupyter-widgets/controls",
          "model_name": "ButtonStyleModel",
          "model_module_version": "1.5.0",
          "state": {
            "_model_module": "@jupyter-widgets/controls",
            "_model_module_version": "1.5.0",
            "_model_name": "ButtonStyleModel",
            "_view_count": null,
            "_view_module": "@jupyter-widgets/base",
            "_view_module_version": "1.2.0",
            "_view_name": "StyleView",
            "button_color": "lightblue",
            "font_weight": ""
          }
        },
        "1a79cf74ad6246ab98f43a20153e44fe": {
          "model_module": "@jupyter-widgets/output",
          "model_name": "OutputModel",
          "model_module_version": "1.0.0",
          "state": {
            "_dom_classes": [],
            "_model_module": "@jupyter-widgets/output",
            "_model_module_version": "1.0.0",
            "_model_name": "OutputModel",
            "_view_count": null,
            "_view_module": "@jupyter-widgets/output",
            "_view_module_version": "1.0.0",
            "_view_name": "OutputView",
            "layout": "IPY_MODEL_42b6e3898f1248d293a8ba46c3be53cd",
            "msg_id": "",
            "outputs": [
              {
                "output_type": "display_data",
                "data": {
                  "text/plain": "FloatProgress(value=0.0, bar_style='info', description='Progreso:')",
                  "application/vnd.jupyter.widget-view+json": {
                    "version_major": 2,
                    "version_minor": 0,
                    "model_id": "ff343c5ccfad42d7a41fc05b7f04b4e9"
                  }
                },
                "metadata": {}
              },
              {
                "output_type": "display_data",
                "data": {
                  "text/plain": "Label(value='0% completado')",
                  "application/vnd.jupyter.widget-view+json": {
                    "version_major": 2,
                    "version_minor": 0,
                    "model_id": "99a5118a41ac4b4b960d81b2be2db583"
                  }
                },
                "metadata": {}
              },
              {
                "output_type": "stream",
                "name": "stdout",
                "text": [
                  "⏳ Cargando: AS175_20250608.csv (1/32)\n",
                  "✅ AS175_20250608.csv → asentamiento (CSV)\n",
                  "⏳ Cargando: AS175_20250608.xlsx (2/32)\n",
                  "✅ AS175_20250608.xlsx → asentamiento (XLSX)\n",
                  "⏳ Cargando: AS260_20250608.csv (3/32)\n",
                  "✅ AS260_20250608.csv → asentamiento (CSV)\n",
                  "⏳ Cargando: AS260_20250608.xlsx (4/32)\n",
                  "✅ AS260_20250608.xlsx → asentamiento (XLSX)\n",
                  "⏳ Cargando: AS300_20250608.csv (5/32)\n",
                  "✅ AS300_20250608.csv → asentamiento (CSV)\n",
                  "⏳ Cargando: AS300_20250608.xlsx (6/32)\n",
                  "✅ AS300_20250608.xlsx → asentamiento (XLSX)\n",
                  "⏳ Cargando: AS950_20250608.csv (7/32)\n",
                  "✅ AS950_20250608.csv → asentamiento (CSV)\n",
                  "⏳ Cargando: AS950_20250608.xlsx (8/32)\n"
                ]
              },
              {
                "output_type": "stream",
                "name": "stdout",
                "text": [
                  "✅ AS950_20250608.xlsx → asentamiento (XLSX)\n",
                  "⏳ Cargando: AS1225_20250608.csv (9/32)\n",
                  "✅ AS1225_20250608.csv → asentamiento (CSV)\n",
                  "⏳ Cargando: AS1225_20250608.xlsx (10/32)\n"
                ]
              },
              {
                "output_type": "stream",
                "name": "stdout",
                "text": [
                  "✅ AS1225_20250608.xlsx → asentamiento (XLSX)\n",
                  "⏳ Cargando: Freatimetros_20250608.csv (11/32)\n",
                  "✅ Freatimetros_20250608.csv → freatimetros (CSV)\n",
                  "⏳ Cargando: Freatimetros_20250608.xlsx (12/32)\n",
                  "✅ Freatimetros_20250608.xlsx → freatimetros (XLSX)\n",
                  "⏳ Cargando: inclinometros_gkn_20250608.csv (13/32)\n",
                  "✅ inclinometros_gkn_20250608.csv → inclinometros (CSV)\n",
                  "⏳ Cargando: inclinometros_gkn_20250608.xlsx (14/32)\n"
                ]
              },
              {
                "output_type": "stream",
                "name": "stdout",
                "text": [
                  "✅ inclinometros_gkn_20250608.xlsx → inclinometros (XLSX)\n",
                  "⏳ Cargando: NK - Ext - RECINTO-Acumulados_20250608.csv (15/32)\n",
                  "✅ NK - Ext - RECINTO-Acumulados_20250608.csv → extensometro (CSV)\n",
                  "⏳ Cargando: NK - Ext - RECINTO-Acumulados_20250608.xlsx (16/32)\n",
                  "✅ NK - Ext - RECINTO-Acumulados_20250608.xlsx → extensometro (XLSX)\n",
                  "⏳ Cargando: PCG_20250608.csv (17/32)\n",
                  "✅ PCG_20250608.csv → piezometros_casagrande (CSV)\n",
                  "⏳ Cargando: PCG_20250608.xlsx (18/32)\n"
                ]
              },
              {
                "output_type": "stream",
                "name": "stdout",
                "text": [
                  "✅ PCG_20250608.xlsx → piezometros_casagrande (XLSX)\n",
                  "⏳ Cargando: PE175_20250608.csv (19/32)\n",
                  "✅ PE175_20250608.csv → piezometros_electricos (CSV)\n",
                  "⏳ Cargando: PE175_20250608.xlsx (20/32)\n",
                  "✅ PE175_20250608.xlsx → piezometros_electricos (XLSX)\n",
                  "⏳ Cargando: PE260_20250608.csv (21/32)\n",
                  "✅ PE260_20250608.csv → piezometros_electricos (CSV)\n",
                  "⏳ Cargando: PE260_20250608.xlsx (22/32)\n",
                  "✅ PE260_20250608.xlsx → piezometros_electricos (XLSX)\n",
                  "⏳ Cargando: PE300_20250608.csv (23/32)\n",
                  "✅ PE300_20250608.csv → piezometros_electricos (CSV)\n",
                  "⏳ Cargando: PE300_20250608.xlsx (24/32)\n",
                  "✅ PE300_20250608.xlsx → piezometros_electricos (XLSX)\n",
                  "⏳ Cargando: PE475_20250608.csv (25/32)\n",
                  "✅ PE475_20250608.csv → piezometros_electricos (CSV)\n",
                  "⏳ Cargando: PE475_20250608.xlsx (26/32)\n",
                  "✅ PE475_20250608.xlsx → piezometros_electricos (XLSX)\n",
                  "⏳ Cargando: PE950_20250608.csv (27/32)\n"
                ]
              },
              {
                "output_type": "stream",
                "name": "stdout",
                "text": [
                  "✅ PE950_20250608.csv → piezometros_electricos (CSV)\n",
                  "⏳ Cargando: PE950_20250608.xlsx (28/32)\n"
                ]
              },
              {
                "output_type": "stream",
                "name": "stdout",
                "text": [
                  "✅ PE950_20250608.xlsx → piezometros_electricos (XLSX)\n",
                  "⏳ Cargando: PuntosFijosMD_20250611.csv (29/32)\n",
                  "✅ PuntosFijosMD_20250611.csv → puntos_fijos_md (CSV)\n",
                  "⏳ Cargando: PuntosFijosMD_20250611.xlsx (30/32)\n"
                ]
              },
              {
                "output_type": "stream",
                "name": "stdout",
                "text": [
                  "✅ PuntosFijosMD_20250611.xlsx → puntos_fijos_md (XLSX)\n",
                  "⏳ Cargando: PuntosFijosMI_20250611.csv (31/32)\n",
                  "✅ PuntosFijosMI_20250611.csv → puntos_fijos_mi (CSV)\n",
                  "⏳ Cargando: PuntosFijosMI_20250611.xlsx (32/32)\n"
                ]
              },
              {
                "output_type": "stream",
                "name": "stdout",
                "text": [
                  "✅ PuntosFijosMI_20250611.xlsx → puntos_fijos_mi (XLSX)\n",
                  "✅ Carga finalizada.\n"
                ]
              },
              {
                "output_type": "display_data",
                "data": {
                  "text/plain": "Dropdown(description='Seleccionar DataFrame:', layout=Layout(width='60%'), options=('puntos_fijos_mi (csv)', '…",
                  "application/vnd.jupyter.widget-view+json": {
                    "version_major": 2,
                    "version_minor": 0,
                    "model_id": "de34741c119940b8a7df68d455f82287"
                  }
                },
                "metadata": {}
              }
            ]
          }
        },
        "42b6e3898f1248d293a8ba46c3be53cd": {
          "model_module": "@jupyter-widgets/base",
          "model_name": "LayoutModel",
          "model_module_version": "1.2.0",
          "state": {
            "_model_module": "@jupyter-widgets/base",
            "_model_module_version": "1.2.0",
            "_model_name": "LayoutModel",
            "_view_count": null,
            "_view_module": "@jupyter-widgets/base",
            "_view_module_version": "1.2.0",
            "_view_name": "LayoutView",
            "align_content": null,
            "align_items": null,
            "align_self": null,
            "border": null,
            "bottom": null,
            "display": null,
            "flex": null,
            "flex_flow": null,
            "grid_area": null,
            "grid_auto_columns": null,
            "grid_auto_flow": null,
            "grid_auto_rows": null,
            "grid_column": null,
            "grid_gap": null,
            "grid_row": null,
            "grid_template_areas": null,
            "grid_template_columns": null,
            "grid_template_rows": null,
            "height": null,
            "justify_content": null,
            "justify_items": null,
            "left": null,
            "margin": null,
            "max_height": null,
            "max_width": null,
            "min_height": null,
            "min_width": null,
            "object_fit": null,
            "object_position": null,
            "order": null,
            "overflow": null,
            "overflow_x": null,
            "overflow_y": null,
            "padding": null,
            "right": null,
            "top": null,
            "visibility": null,
            "width": null
          }
        },
        "ff343c5ccfad42d7a41fc05b7f04b4e9": {
          "model_module": "@jupyter-widgets/controls",
          "model_name": "FloatProgressModel",
          "model_module_version": "1.5.0",
          "state": {
            "_dom_classes": [],
            "_model_module": "@jupyter-widgets/controls",
            "_model_module_version": "1.5.0",
            "_model_name": "FloatProgressModel",
            "_view_count": null,
            "_view_module": "@jupyter-widgets/controls",
            "_view_module_version": "1.5.0",
            "_view_name": "ProgressView",
            "bar_style": "success",
            "description": "Progreso:",
            "description_tooltip": null,
            "layout": "IPY_MODEL_194e265e50de46d8999d21429d56fd6b",
            "max": 100,
            "min": 0,
            "orientation": "horizontal",
            "style": "IPY_MODEL_fdb15dc821a74399b7fa5b16b65ebee9",
            "value": 100
          }
        },
        "194e265e50de46d8999d21429d56fd6b": {
          "model_module": "@jupyter-widgets/base",
          "model_name": "LayoutModel",
          "model_module_version": "1.2.0",
          "state": {
            "_model_module": "@jupyter-widgets/base",
            "_model_module_version": "1.2.0",
            "_model_name": "LayoutModel",
            "_view_count": null,
            "_view_module": "@jupyter-widgets/base",
            "_view_module_version": "1.2.0",
            "_view_name": "LayoutView",
            "align_content": null,
            "align_items": null,
            "align_self": null,
            "border": null,
            "bottom": null,
            "display": null,
            "flex": null,
            "flex_flow": null,
            "grid_area": null,
            "grid_auto_columns": null,
            "grid_auto_flow": null,
            "grid_auto_rows": null,
            "grid_column": null,
            "grid_gap": null,
            "grid_row": null,
            "grid_template_areas": null,
            "grid_template_columns": null,
            "grid_template_rows": null,
            "height": null,
            "justify_content": null,
            "justify_items": null,
            "left": null,
            "margin": null,
            "max_height": null,
            "max_width": null,
            "min_height": null,
            "min_width": null,
            "object_fit": null,
            "object_position": null,
            "order": null,
            "overflow": null,
            "overflow_x": null,
            "overflow_y": null,
            "padding": null,
            "right": null,
            "top": null,
            "visibility": null,
            "width": null
          }
        },
        "fdb15dc821a74399b7fa5b16b65ebee9": {
          "model_module": "@jupyter-widgets/controls",
          "model_name": "ProgressStyleModel",
          "model_module_version": "1.5.0",
          "state": {
            "_model_module": "@jupyter-widgets/controls",
            "_model_module_version": "1.5.0",
            "_model_name": "ProgressStyleModel",
            "_view_count": null,
            "_view_module": "@jupyter-widgets/base",
            "_view_module_version": "1.2.0",
            "_view_name": "StyleView",
            "bar_color": null,
            "description_width": ""
          }
        },
        "99a5118a41ac4b4b960d81b2be2db583": {
          "model_module": "@jupyter-widgets/controls",
          "model_name": "LabelModel",
          "model_module_version": "1.5.0",
          "state": {
            "_dom_classes": [],
            "_model_module": "@jupyter-widgets/controls",
            "_model_module_version": "1.5.0",
            "_model_name": "LabelModel",
            "_view_count": null,
            "_view_module": "@jupyter-widgets/controls",
            "_view_module_version": "1.5.0",
            "_view_name": "LabelView",
            "description": "",
            "description_tooltip": null,
            "layout": "IPY_MODEL_b6924f1f90de4fb7b6138b98f35b8264",
            "placeholder": "​",
            "style": "IPY_MODEL_a2afed0f7ef344deb072ca3ae106eeb8",
            "value": "✅ Carga completada al 100%"
          }
        },
        "b6924f1f90de4fb7b6138b98f35b8264": {
          "model_module": "@jupyter-widgets/base",
          "model_name": "LayoutModel",
          "model_module_version": "1.2.0",
          "state": {
            "_model_module": "@jupyter-widgets/base",
            "_model_module_version": "1.2.0",
            "_model_name": "LayoutModel",
            "_view_count": null,
            "_view_module": "@jupyter-widgets/base",
            "_view_module_version": "1.2.0",
            "_view_name": "LayoutView",
            "align_content": null,
            "align_items": null,
            "align_self": null,
            "border": null,
            "bottom": null,
            "display": null,
            "flex": null,
            "flex_flow": null,
            "grid_area": null,
            "grid_auto_columns": null,
            "grid_auto_flow": null,
            "grid_auto_rows": null,
            "grid_column": null,
            "grid_gap": null,
            "grid_row": null,
            "grid_template_areas": null,
            "grid_template_columns": null,
            "grid_template_rows": null,
            "height": null,
            "justify_content": null,
            "justify_items": null,
            "left": null,
            "margin": null,
            "max_height": null,
            "max_width": null,
            "min_height": null,
            "min_width": null,
            "object_fit": null,
            "object_position": null,
            "order": null,
            "overflow": null,
            "overflow_x": null,
            "overflow_y": null,
            "padding": null,
            "right": null,
            "top": null,
            "visibility": null,
            "width": null
          }
        },
        "a2afed0f7ef344deb072ca3ae106eeb8": {
          "model_module": "@jupyter-widgets/controls",
          "model_name": "DescriptionStyleModel",
          "model_module_version": "1.5.0",
          "state": {
            "_model_module": "@jupyter-widgets/controls",
            "_model_module_version": "1.5.0",
            "_model_name": "DescriptionStyleModel",
            "_view_count": null,
            "_view_module": "@jupyter-widgets/base",
            "_view_module_version": "1.2.0",
            "_view_name": "StyleView",
            "description_width": ""
          }
        },
        "de34741c119940b8a7df68d455f82287": {
          "model_module": "@jupyter-widgets/controls",
          "model_name": "DropdownModel",
          "model_module_version": "1.5.0",
          "state": {
            "_dom_classes": [],
            "_model_module": "@jupyter-widgets/controls",
            "_model_module_version": "1.5.0",
            "_model_name": "DropdownModel",
            "_options_labels": [
              "puntos_fijos_mi (csv)",
              "puntos_fijos_md (csv)",
              "inclinometros (csv)",
              "asentamiento (csv)",
              "piezometros_electricos (csv)",
              "piezometros_casagrande (csv)",
              "freatimetros (csv)",
              "extensometro (csv)",
              "puntos_fijos_mi (xlsx)",
              "puntos_fijos_md (xlsx)",
              "inclinometros (xlsx)",
              "asentamiento (xlsx)",
              "piezometros_electricos (xlsx)",
              "piezometros_casagrande (xlsx)",
              "freatimetros (xlsx)",
              "extensometro (xlsx)"
            ],
            "_view_count": null,
            "_view_module": "@jupyter-widgets/controls",
            "_view_module_version": "1.5.0",
            "_view_name": "DropdownView",
            "description": "Seleccionar DataFrame:",
            "description_tooltip": null,
            "disabled": false,
            "index": 0,
            "layout": "IPY_MODEL_9af091ed7030410ead13f6d14b82b38a",
            "style": "IPY_MODEL_3b06cd900fe44d2890136e6771f43930"
          }
        },
        "9af091ed7030410ead13f6d14b82b38a": {
          "model_module": "@jupyter-widgets/base",
          "model_name": "LayoutModel",
          "model_module_version": "1.2.0",
          "state": {
            "_model_module": "@jupyter-widgets/base",
            "_model_module_version": "1.2.0",
            "_model_name": "LayoutModel",
            "_view_count": null,
            "_view_module": "@jupyter-widgets/base",
            "_view_module_version": "1.2.0",
            "_view_name": "LayoutView",
            "align_content": null,
            "align_items": null,
            "align_self": null,
            "border": null,
            "bottom": null,
            "display": null,
            "flex": null,
            "flex_flow": null,
            "grid_area": null,
            "grid_auto_columns": null,
            "grid_auto_flow": null,
            "grid_auto_rows": null,
            "grid_column": null,
            "grid_gap": null,
            "grid_row": null,
            "grid_template_areas": null,
            "grid_template_columns": null,
            "grid_template_rows": null,
            "height": null,
            "justify_content": null,
            "justify_items": null,
            "left": null,
            "margin": null,
            "max_height": null,
            "max_width": null,
            "min_height": null,
            "min_width": null,
            "object_fit": null,
            "object_position": null,
            "order": null,
            "overflow": null,
            "overflow_x": null,
            "overflow_y": null,
            "padding": null,
            "right": null,
            "top": null,
            "visibility": null,
            "width": "60%"
          }
        },
        "3b06cd900fe44d2890136e6771f43930": {
          "model_module": "@jupyter-widgets/controls",
          "model_name": "DescriptionStyleModel",
          "model_module_version": "1.5.0",
          "state": {
            "_model_module": "@jupyter-widgets/controls",
            "_model_module_version": "1.5.0",
            "_model_name": "DescriptionStyleModel",
            "_view_count": null,
            "_view_module": "@jupyter-widgets/base",
            "_view_module_version": "1.2.0",
            "_view_name": "StyleView",
            "description_width": "initial"
          }
        }
      }
    }
  },
  "cells": [
    {
      "cell_type": "markdown",
      "metadata": {
        "id": "view-in-github",
        "colab_type": "text"
      },
      "source": [
        "<a href=\"https://colab.research.google.com/github/JorgeAccardi/auscultacion-presa/blob/main/Carga_Archivos_Barra_Progresos.ipynb\" target=\"_parent\"><img src=\"https://colab.research.google.com/assets/colab-badge.svg\" alt=\"Open In Colab\"/></a>"
      ]
    },
    {
      "cell_type": "markdown",
      "source": [
        "#Carga de datos con barra de progreso"
      ],
      "metadata": {
        "id": "J4g_lOe5QW2Y"
      }
    },
    {
      "cell_type": "code",
      "execution_count": 4,
      "metadata": {
        "colab": {
          "base_uri": "https://localhost:8080/",
          "height": 1000,
          "referenced_widgets": [
            "a191a0ea60a54ca3829c6e13e8c0a62f",
            "ea50f6186e4d48ed8505505d2f0c7233",
            "5fd2eb9d1aff41e5a69e3c9dc05e05a1",
            "7c7548ed380f4ecfa1de8e5929c80072",
            "b84e7f3c9ddd473697c44aeaa4a50ed1",
            "1844205e82124dba9f3b6ea99bac46cb",
            "3516e602f1b74b20858710cb14e54ddc",
            "4342a761253e455aab7f677d8ec7484b",
            "2663c0805fba44ed90a3aee35466876d",
            "e845112a9ccd4620a48170f2c8b69d14",
            "b511a8ff1a8942638a61568af21f1757"
          ]
        },
        "id": "ns84TKSoORKi",
        "outputId": "366563c6-9019-462f-bfe9-d7a6b6167bc5"
      },
      "outputs": [
        {
          "output_type": "display_data",
          "data": {
            "text/plain": [
              "FileUpload(value={}, accept='.csv,.xlsx', description='Subir archivos', multiple=True, style=ButtonStyle(butto…"
            ],
            "application/vnd.jupyter.widget-view+json": {
              "version_major": 2,
              "version_minor": 0,
              "model_id": "a191a0ea60a54ca3829c6e13e8c0a62f"
            }
          },
          "metadata": {}
        },
        {
          "output_type": "display_data",
          "data": {
            "text/plain": [
              "Output()"
            ],
            "application/vnd.jupyter.widget-view+json": {
              "version_major": 2,
              "version_minor": 0,
              "model_id": "7c7548ed380f4ecfa1de8e5929c80072"
            }
          },
          "metadata": {}
        }
      ],
      "source": [
        "import pandas as pd\n",
        "import io\n",
        "from IPython.display import display, clear_output\n",
        "import ipywidgets as widgets\n",
        "\n",
        "# Diccionarios para almacenar datos\n",
        "instrumentos = [\n",
        "    \"puntos_fijos_mi\",\n",
        "    \"puntos_fijos_md\",\n",
        "    \"inclinometros\",\n",
        "    \"asentamiento\",\n",
        "    \"piezometros_electricos\",\n",
        "    \"piezometros_casagrande\",\n",
        "    \"freatimetros\",\n",
        "    \"extensometro\"\n",
        "]\n",
        "\n",
        "datos_csv = {inst: pd.DataFrame() for inst in instrumentos}\n",
        "datos_xlsx = {inst: pd.DataFrame() for inst in instrumentos}\n",
        "\n",
        "# Detectar tipo de instrumento según nombre\n",
        "def detectar_instrumento(nombre):\n",
        "    nombre = nombre.lower()\n",
        "    if \"puntosfijos\" in nombre or \"pf\" in nombre:\n",
        "        if \"mi\" in nombre:\n",
        "            return \"puntos_fijos_mi\"\n",
        "        elif \"md\" in nombre:\n",
        "            return \"puntos_fijos_md\"\n",
        "        else:\n",
        "            return None\n",
        "    elif \"incli\" in nombre:\n",
        "        return \"inclinometros\"\n",
        "    elif \"as\" in nombre:\n",
        "        return \"asentamiento\"\n",
        "    elif \"pe\" in nombre:\n",
        "        return \"piezometros_electricos\"\n",
        "    elif \"pcg\" in nombre:\n",
        "        return \"piezometros_casagrande\"\n",
        "    elif \"frea\" in nombre:\n",
        "        return \"freatimetros\"\n",
        "    elif \"ext\" in nombre:\n",
        "        return \"extensometro\"\n",
        "    return None\n",
        "\n",
        "# Widgets de carga y salida\n",
        "upload_widget = widgets.FileUpload(\n",
        "    accept='.csv,.xlsx',\n",
        "    multiple=True,\n",
        "    description='Subir archivos',\n",
        "    style={'button_color': 'lightblue'}\n",
        ")\n",
        "output = widgets.Output()\n",
        "barra_progreso = widgets.IntProgress(value=0, min=0, max=1, description='Progreso:', bar_style='info')\n",
        "\n",
        "# Función principal de carga con barra de progreso\n",
        "def cargar_archivos(change):\n",
        "    with output:\n",
        "        clear_output(wait=True)\n",
        "        archivos = upload_widget.value\n",
        "\n",
        "        if not archivos:\n",
        "            print(\"⚠️ No se subió ningún archivo.\")\n",
        "            return\n",
        "\n",
        "        total = len(archivos)\n",
        "        barra_progreso.max = total\n",
        "        barra_progreso.value = 0\n",
        "        barra_progreso.bar_style = 'info'\n",
        "        display(barra_progreso)\n",
        "\n",
        "        for i, (nombre_archivo, archivo_info) in enumerate(archivos.items(), start=1):\n",
        "            try:\n",
        "                contenido = archivo_info['content']\n",
        "                extension = nombre_archivo.split('.')[-1].lower()\n",
        "                instrumento = detectar_instrumento(nombre_archivo)\n",
        "\n",
        "                print(f\"⏳ Cargando: {nombre_archivo} ({i}/{total})\")\n",
        "\n",
        "                if not instrumento:\n",
        "                    print(f\"❌ Instrumento no reconocido: {nombre_archivo}\")\n",
        "                    barra_progreso.value = i\n",
        "                    continue\n",
        "\n",
        "                if extension == 'csv':\n",
        "                    df = pd.read_csv(io.BytesIO(contenido), encoding='utf-8')\n",
        "                    datos_csv[instrumento] = pd.concat([datos_csv[instrumento], df], ignore_index=True)\n",
        "                    print(f\"✅ {nombre_archivo} → {instrumento} (CSV)\")\n",
        "                elif extension == 'xlsx':\n",
        "                    df = pd.read_excel(io.BytesIO(contenido))\n",
        "                    datos_xlsx[instrumento] = pd.concat([datos_xlsx[instrumento], df], ignore_index=True)\n",
        "                    print(f\"✅ {nombre_archivo} → {instrumento} (XLSX)\")\n",
        "                else:\n",
        "                    print(f\"❌ Formato no compatible: {nombre_archivo}\")\n",
        "\n",
        "            except Exception as e:\n",
        "                print(f\"❌ Error al procesar {nombre_archivo}: {e}\")\n",
        "\n",
        "            barra_progreso.value = i\n",
        "\n",
        "        barra_progreso.bar_style = 'success'\n",
        "        print(\"✅ Carga finalizada.\")\n",
        "        mostrar_menu()\n",
        "\n",
        "# Menú de visualización de DataFrames\n",
        "def mostrar_menu():\n",
        "    opciones = []\n",
        "    for origen in ['csv', 'xlsx']:\n",
        "        for instrumento in instrumentos:\n",
        "            opciones.append(f\"{instrumento} ({origen})\")\n",
        "\n",
        "    selector = widgets.Dropdown(\n",
        "        options=opciones,\n",
        "        description='Seleccionar DataFrame:',\n",
        "        style={'description_width': 'initial'},\n",
        "        layout=widgets.Layout(width='60%')\n",
        "    )\n",
        "\n",
        "    def mostrar_datos(change):\n",
        "        clear_output(wait=True)\n",
        "        display(upload_widget, output)\n",
        "        seleccion = selector.value\n",
        "        instrumento, origen = seleccion.split(\" \")\n",
        "        instrumento = instrumento.strip()\n",
        "        origen = origen.strip(\"()\")\n",
        "\n",
        "        print(f\"📊 Mostrando: {instrumento.upper()} ({origen.upper()})\")\n",
        "        if origen == \"csv\":\n",
        "            display(datos_csv[instrumento].head())\n",
        "        else:\n",
        "            display(datos_xlsx[instrumento].head())\n",
        "\n",
        "    selector.observe(mostrar_datos, names='value')\n",
        "    display(selector)\n",
        "\n",
        "# Conectar evento\n",
        "upload_widget.observe(cargar_archivos, names='value')\n",
        "\n",
        "# Mostrar interfaz\n",
        "display(upload_widget)\n",
        "display(output)\n"
      ]
    },
    {
      "cell_type": "markdown",
      "source": [
        "#Carga de datos con barra de progresos y avance porcentual"
      ],
      "metadata": {
        "id": "yHhswyqDQh6p"
      }
    },
    {
      "cell_type": "code",
      "source": [
        "import pandas as pd\n",
        "import io\n",
        "from IPython.display import display, clear_output\n",
        "import ipywidgets as widgets\n",
        "\n",
        "# Diccionarios para almacenar datos\n",
        "instrumentos = [\n",
        "    \"puntos_fijos_mi\",\n",
        "    \"puntos_fijos_md\",\n",
        "    \"inclinometros\",\n",
        "    \"asentamiento\",\n",
        "    \"piezometros_electricos\",\n",
        "    \"piezometros_casagrande\",\n",
        "    \"freatimetros\",\n",
        "    \"extensometro\"\n",
        "]\n",
        "\n",
        "datos_csv = {inst: pd.DataFrame() for inst in instrumentos}\n",
        "datos_xlsx = {inst: pd.DataFrame() for inst in instrumentos}\n",
        "\n",
        "# Detectar tipo de instrumento según nombre\n",
        "def detectar_instrumento(nombre):\n",
        "    nombre = nombre.lower()\n",
        "    if \"puntosfijos\" in nombre or \"pf\" in nombre:\n",
        "        if \"mi\" in nombre:\n",
        "            return \"puntos_fijos_mi\"\n",
        "        elif \"md\" in nombre:\n",
        "            return \"puntos_fijos_md\"\n",
        "        else:\n",
        "            return None\n",
        "    elif \"incli\" in nombre:\n",
        "        return \"inclinometros\"\n",
        "    elif \"as\" in nombre:\n",
        "        return \"asentamiento\"\n",
        "    elif \"pe\" in nombre:\n",
        "        return \"piezometros_electricos\"\n",
        "    elif \"pcg\" in nombre:\n",
        "        return \"piezometros_casagrande\"\n",
        "    elif \"frea\" in nombre:\n",
        "        return \"freatimetros\"\n",
        "    elif \"ext\" in nombre:\n",
        "        return \"extensometro\"\n",
        "    return None\n",
        "\n",
        "# Widgets de carga y salida\n",
        "upload_widget = widgets.FileUpload(\n",
        "    accept='.csv,.xlsx',\n",
        "    multiple=True,\n",
        "    description='Subir archivos',\n",
        "    style={'button_color': 'lightblue'}\n",
        ")\n",
        "output = widgets.Output()\n",
        "barra_progreso = widgets.FloatProgress(value=0, min=0, max=100, description='Progreso:', bar_style='info')\n",
        "etiqueta_progreso = widgets.Label(value=\"0% completado\")\n",
        "\n",
        "# Función principal de carga con barra de progreso con porcentaje\n",
        "def cargar_archivos(change):\n",
        "    with output:\n",
        "        clear_output(wait=True)\n",
        "        archivos = upload_widget.value\n",
        "\n",
        "        if not archivos:\n",
        "            print(\"⚠️ No se subió ningún archivo.\")\n",
        "            return\n",
        "\n",
        "        total = len(archivos)\n",
        "        barra_progreso.value = 0\n",
        "        barra_progreso.bar_style = 'info'\n",
        "        etiqueta_progreso.value = \"0% completado\"\n",
        "        display(barra_progreso, etiqueta_progreso)\n",
        "\n",
        "        for i, (nombre_archivo, archivo_info) in enumerate(archivos.items(), start=1):\n",
        "            try:\n",
        "                contenido = archivo_info['content']\n",
        "                extension = nombre_archivo.split('.')[-1].lower()\n",
        "                instrumento = detectar_instrumento(nombre_archivo)\n",
        "\n",
        "                print(f\"⏳ Cargando: {nombre_archivo} ({i}/{total})\")\n",
        "\n",
        "                if not instrumento:\n",
        "                    print(f\"❌ Instrumento no reconocido: {nombre_archivo}\")\n",
        "                    porcentaje = (i / total) * 100\n",
        "                    barra_progreso.value = porcentaje\n",
        "                    etiqueta_progreso.value = f\"{porcentaje:.0f}% completado\"\n",
        "                    continue\n",
        "\n",
        "                if extension == 'csv':\n",
        "                    df = pd.read_csv(io.BytesIO(contenido), encoding='utf-8')\n",
        "                    datos_csv[instrumento] = pd.concat([datos_csv[instrumento], df], ignore_index=True)\n",
        "                    print(f\"✅ {nombre_archivo} → {instrumento} (CSV)\")\n",
        "                elif extension == 'xlsx':\n",
        "                    df = pd.read_excel(io.BytesIO(contenido))\n",
        "                    datos_xlsx[instrumento] = pd.concat([datos_xlsx[instrumento], df], ignore_index=True)\n",
        "                    print(f\"✅ {nombre_archivo} → {instrumento} (XLSX)\")\n",
        "                else:\n",
        "                    print(f\"❌ Formato no compatible: {nombre_archivo}\")\n",
        "\n",
        "            except Exception as e:\n",
        "                print(f\"❌ Error al procesar {nombre_archivo}: {e}\")\n",
        "\n",
        "            porcentaje = (i / total) * 100\n",
        "            barra_progreso.value = porcentaje\n",
        "            etiqueta_progreso.value = f\"{porcentaje:.0f}% completado\"\n",
        "\n",
        "        barra_progreso.bar_style = 'success'\n",
        "        etiqueta_progreso.value = \"✅ Carga completada al 100%\"\n",
        "        print(\"✅ Carga finalizada.\")\n",
        "        mostrar_menu()\n",
        "\n",
        "# Menú de visualización de DataFrames\n",
        "def mostrar_menu():\n",
        "    opciones = []\n",
        "    for origen in ['csv', 'xlsx']:\n",
        "        for instrumento in instrumentos:\n",
        "            opciones.append(f\"{instrumento} ({origen})\")\n",
        "\n",
        "    selector = widgets.Dropdown(\n",
        "        options=opciones,\n",
        "        description='Seleccionar DataFrame:',\n",
        "        style={'description_width': 'initial'},\n",
        "        layout=widgets.Layout(width='60%')\n",
        "    )\n",
        "\n",
        "    def mostrar_datos(change):\n",
        "        clear_output(wait=True)\n",
        "        display(upload_widget, output)\n",
        "        seleccion = selector.value\n",
        "        instrumento, origen = seleccion.split(\" \")\n",
        "        instrumento = instrumento.strip()\n",
        "        origen = origen.strip(\"()\")\n",
        "\n",
        "        print(f\"📊 Mostrando: {instrumento.upper()} ({origen.upper()})\")\n",
        "        if origen == \"csv\":\n",
        "            display(datos_csv[instrumento].head())\n",
        "        else:\n",
        "            display(datos_xlsx[instrumento].head())\n",
        "\n",
        "    selector.observe(mostrar_datos, names='value')\n",
        "    display(selector)\n",
        "\n",
        "# Conectar evento\n",
        "upload_widget.observe(cargar_archivos, names='value')\n",
        "\n",
        "# Mostrar interfaz\n",
        "display(upload_widget)\n",
        "display(output)\n"
      ],
      "metadata": {
        "colab": {
          "base_uri": "https://localhost:8080/",
          "height": 1000,
          "referenced_widgets": [
            "565e288a54a94cae8e2800fabdc8394b",
            "8bbdcf645d744640af27daa779224fa8",
            "1eee16af0a524c2bb4fc1a1804587ffd",
            "1a79cf74ad6246ab98f43a20153e44fe",
            "42b6e3898f1248d293a8ba46c3be53cd",
            "ff343c5ccfad42d7a41fc05b7f04b4e9",
            "194e265e50de46d8999d21429d56fd6b",
            "fdb15dc821a74399b7fa5b16b65ebee9",
            "99a5118a41ac4b4b960d81b2be2db583",
            "b6924f1f90de4fb7b6138b98f35b8264",
            "a2afed0f7ef344deb072ca3ae106eeb8",
            "de34741c119940b8a7df68d455f82287",
            "9af091ed7030410ead13f6d14b82b38a",
            "3b06cd900fe44d2890136e6771f43930"
          ]
        },
        "id": "dDaxH2Z9P8-S",
        "outputId": "ac0cb124-b9f2-4a59-daa8-1d71d205d3e5"
      },
      "execution_count": 5,
      "outputs": [
        {
          "output_type": "display_data",
          "data": {
            "text/plain": [
              "FileUpload(value={}, accept='.csv,.xlsx', description='Subir archivos', multiple=True, style=ButtonStyle(butto…"
            ],
            "application/vnd.jupyter.widget-view+json": {
              "version_major": 2,
              "version_minor": 0,
              "model_id": "565e288a54a94cae8e2800fabdc8394b"
            }
          },
          "metadata": {}
        },
        {
          "output_type": "display_data",
          "data": {
            "text/plain": [
              "Output()"
            ],
            "application/vnd.jupyter.widget-view+json": {
              "version_major": 2,
              "version_minor": 0,
              "model_id": "1a79cf74ad6246ab98f43a20153e44fe"
            }
          },
          "metadata": {}
        }
      ]
    }
  ]
}